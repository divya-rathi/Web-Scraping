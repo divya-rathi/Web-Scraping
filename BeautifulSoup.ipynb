{
 "cells": [
  {
   "cell_type": "code",
   "execution_count": 12,
   "metadata": {},
   "outputs": [
    {
     "name": "stdout",
     "output_type": "stream",
     "text": [
      "Collecting PrettyTable\n",
      "  Downloading prettytable-0.7.2.tar.bz2 (21 kB)\n",
      "Building wheels for collected packages: PrettyTable\n",
      "  Building wheel for PrettyTable (setup.py): started\n",
      "  Building wheel for PrettyTable (setup.py): finished with status 'done'\n",
      "  Created wheel for PrettyTable: filename=prettytable-0.7.2-py3-none-any.whl size=13704 sha256=636e86871626e8c38d0db64ef5cb193288fb982a2a671640ca78f08aeaf57975\n",
      "  Stored in directory: c:\\users\\rathi\\appdata\\local\\pip\\cache\\wheels\\8c\\76\\0b\\eb9eb3da7e2335e3577e3f96a0ae9f74f206e26457bd1a2bc8\n",
      "Successfully built PrettyTable\n",
      "Installing collected packages: PrettyTable\n",
      "Successfully installed PrettyTable-0.7.2\n",
      "Note: you may need to restart the kernel to use updated packages.\n"
     ]
    }
   ],
   "source": [
    "pip install PrettyTable"
   ]
  },
  {
   "cell_type": "code",
   "execution_count": 1,
   "metadata": {},
   "outputs": [
    {
     "name": "stdout",
     "output_type": "stream",
     "text": [
      "+------------------------------------------------------------------------------------------------+--------+\n",
      "|                                              name                                              | price  |\n",
      "+------------------------------------------------------------------------------------------------+--------+\n",
      "|                                      A Light in the Attic                                      | £51.77 |\n",
      "|                                       Tipping the Velvet                                       | £53.74 |\n",
      "|                                           Soumission                                           | £50.10 |\n",
      "|                                         Sharp Objects                                          | £47.82 |\n",
      "|                             Sapiens: A Brief History of Humankind                              | £54.23 |\n",
      "|                                        The Requiem Red                                         | £22.65 |\n",
      "|                       The Dirty Little Secrets of Getting Your Dream Job                       | £33.34 |\n",
      "|    The Coming Woman: A Novel Based on the Life of the Infamous Feminist, Victoria Woodhull     | £17.93 |\n",
      "| The Boys in the Boat: Nine Americans and Their Epic Quest for Gold at the 1936 Berlin Olympics | £22.60 |\n",
      "|                                        The Black Maria                                         | £52.15 |\n",
      "|                         Starving Hearts (Triangular Trade Trilogy, #1)                         | £13.99 |\n",
      "|                                     Shakespeare's Sonnets                                      | £20.66 |\n",
      "|                                          Set Me Free                                           | £17.46 |\n",
      "|                    Scott Pilgrim's Precious Little Life (Scott Pilgrim #1)                     | £52.29 |\n",
      "|                                   Rip it Up and Start Again                                    | £35.02 |\n",
      "|       Our Band Could Be Your Life: Scenes from the American Indie Underground, 1981-1991       | £57.25 |\n",
      "|                                              Olio                                              | £23.88 |\n",
      "|                     Mesaerion: The Best Science Fiction Stories 1800-1849                      | £37.59 |\n",
      "|                                  Libertarianism for Beginners                                  | £51.33 |\n",
      "|                                    It's Only the Himalayas                                     | £45.17 |\n",
      "+------------------------------------------------------------------------------------------------+--------+\n"
     ]
    }
   ],
   "source": [
    "import requests\n",
    "from bs4 import BeautifulSoup\n",
    "from prettytable import PrettyTable\n",
    "import urllib.request, urllib.error, urllib.parse\n",
    "\n",
    "url='http://books.toscrape.com/index.html'\n",
    "\n",
    "page = urllib.request.urlopen(url)\n",
    "\n",
    "soup= BeautifulSoup(page,'html.parser')\n",
    "div = soup.findAll('div', class_='col-sm-8 col-md-9')\n",
    "\n",
    "ol=div[0].section.findAll('ol',class_=\"row\")\n",
    "\n",
    "li=ol[0].findAll('li')\n",
    "\n",
    "t=PrettyTable(['name','price'])\n",
    "\n",
    "for i in range(len(li)):\n",
    "  p_div=li[i].findAll('div', class_='product_price')\n",
    "  t.add_row([li[i].article.h3.a['title'],p_div[0].p.text])\n",
    "print(t)\n"
   ]
  },
  {
   "cell_type": "code",
   "execution_count": null,
   "metadata": {},
   "outputs": [],
   "source": []
  }
 ],
 "metadata": {
  "kernelspec": {
   "display_name": "Python 3",
   "language": "python",
   "name": "python3"
  },
  "language_info": {
   "codemirror_mode": {
    "name": "ipython",
    "version": 3
   },
   "file_extension": ".py",
   "mimetype": "text/x-python",
   "name": "python",
   "nbconvert_exporter": "python",
   "pygments_lexer": "ipython3",
   "version": "3.7.4"
  }
 },
 "nbformat": 4,
 "nbformat_minor": 2
}
